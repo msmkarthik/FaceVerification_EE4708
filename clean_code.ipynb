{
 "cells": [
  {
   "cell_type": "code",
   "execution_count": 1,
   "metadata": {},
   "outputs": [],
   "source": [
    "import numpy as np\n",
    "import scipy.misc\n",
    "import cv2\n",
    "import matplotlib.pyplot as plt\n",
    "from scipy.ndimage import zoom\n",
    "import scipy.misc\n",
    "import imageio\n",
    "import os\n",
    "import itertools\n",
    "from skimage.feature import local_binary_pattern\n",
    "from skimage.feature import hog\n",
    "from skimage import data, exposure\n",
    "from sklearn.model_selection import train_test_split\n",
    "from sklearn.tree import DecisionTreeClassifier\n",
    "from sklearn.svm import SVC\n",
    "from sklearn.ensemble import RandomForestClassifier, GradientBoostingClassifier\n",
    "from sklearn.linear_model import LogisticRegression\n",
    "from sklearn.metrics import f1_score\n",
    "from sklearn.metrics import accuracy_score,f1_score\n",
    "from sklearn.metrics import auc,precision_recall_curve\n",
    "from skimage.transform import resize\n",
    "from sklearn.neighbors import KNeighborsClassifier"
   ]
  },
  {
   "cell_type": "code",
   "execution_count": 2,
   "metadata": {},
   "outputs": [],
   "source": [
    "def crop_face(img):\n",
    "    img = img[:]\n",
    "    faces = faceCascade.detectMultiScale(\n",
    "            img,\n",
    "            scaleFactor=1.1,\n",
    "            minNeighbors=1,\n",
    "            minSize=(30, 30))\n",
    "    try:\n",
    "        x,y,h,w = faces[0]\n",
    "        face1 = zoom(img[y:y+h,x:x+w],[80./h,60./w])\n",
    "        if face1.shape[1]!=60:\n",
    "            face1 = resize(face1, (80, 60),anti_aliasing=True,preserve_range= True).astype('uint8')\n",
    "        return face1\n",
    "    except:\n",
    "        img = resize(img, (80, 60),anti_aliasing=True,preserve_range= True).astype('uint8')\n",
    "        return img"
   ]
  },
  {
   "cell_type": "code",
   "execution_count": 3,
   "metadata": {},
   "outputs": [],
   "source": [
    "def create_lbp(data,x_grid = 5,y_grid = 5):\n",
    "    hists = []\n",
    "    for ind,img in enumerate(data):\n",
    "        img = local_binary_pattern(crop_face(img),3,3)\n",
    "        grid_size_x = img.shape[0]//x_grid\n",
    "        grid_size_y = img.shape[1]//y_grid\n",
    "        for x in range(x_grid):\n",
    "            for y in range(y_grid):\n",
    "                patch = img[x*grid_size_x:(x+1)*grid_size_x,y*grid_size_y:(y+1)*grid_size_y]\n",
    "                hist,_ = np.histogram(patch.reshape(-1),bins=64)\n",
    "                if x==0 and y==0:\n",
    "                    patch_hist_list = hist\n",
    "                else:\n",
    "                    patch_hist_list = np.concatenate([patch_hist_list,hist],0)\n",
    "        hists.append(patch_hist_list.reshape(1,-1))\n",
    "\n",
    "    return np.concatenate(hists,0)"
   ]
  },
  {
   "cell_type": "code",
   "execution_count": 4,
   "metadata": {},
   "outputs": [],
   "source": [
    "def create_hog(data):\n",
    "    hog_features = [hog(crop_face(n), pixels_per_cell=(16, 16),\n",
    "                    cells_per_block=(1, 1)) for n in data]\n",
    "    hog_features = np.stack(hog_features,0)\n",
    "    hog_features = hog_features.reshape(len(data),-1)\n",
    "    return hog_features"
   ]
  },
  {
   "cell_type": "code",
   "execution_count": 5,
   "metadata": {},
   "outputs": [],
   "source": [
    "def create_label_pair(X,y):\n",
    "    img_pair = []\n",
    "    label_pair = []\n",
    "    for pair in itertools.combinations_with_replacement(range(X.shape[0]),2):\n",
    "        img_pair.append(X[pair,:])\n",
    "        label_pair.append(y[pair,])\n",
    "\n",
    "    img_pair = np.stack(img_pair)\n",
    "    label_pair = np.stack(label_pair)\n",
    "    label_pair = (label_pair[:,0] == label_pair[:,1])\n",
    "    label_pair = label_pair*1\n",
    "    img_pair = np.abs(img_pair[:,0,...] - img_pair[:,1,...])\n",
    "    return (img_pair,label_pair)\n",
    "    \n",
    "    "
   ]
  },
  {
   "cell_type": "code",
   "execution_count": 6,
   "metadata": {},
   "outputs": [],
   "source": [
    "cascPath = \"haarcascade_frontalface_default.xml\"\n",
    "\n",
    "# Create the haar cascade\n",
    "faceCascade = cv2.CascadeClassifier(cascPath)\n",
    "full_face = []\n",
    "full_labels = []\n",
    "all_images = os.listdir('yalefaces')\n",
    "for j in range(1,11):    # there are 15 different people in the dataset\n",
    "    img_list = [filename for filename in all_images if filename.startswith('subject%.2d'%j)]\n",
    "    for k,img in enumerate(img_list):\n",
    "        I = imageio.imread(os.path.join('yalefaces',img))\n",
    "        full_face.append(I)\n",
    "    labels = [j-1]*11\n",
    "    full_labels.extend(labels)\n",
    "    \n",
    "\n",
    "final_train=[]\n",
    "final_labels = []\n",
    "Data_main = os.listdir('att_faces')\n",
    "for i in range(11,58):    # there are 15 different people in the dataset\n",
    "    new_list='./att_faces/s'+str((i-10))\n",
    "    img_list = os.listdir(new_list)\n",
    "    for j in range(len(img_list)):\n",
    "        I = imageio.imread(os.path.join(new_list,img_list[j]))\n",
    "        final_train.append(I)\n",
    "    labels = [i]*10\n",
    "    final_labels.extend(labels)\n",
    "full_face+=final_train\n",
    "full_labels+=final_labels"
   ]
  },
  {
   "cell_type": "code",
   "execution_count": 7,
   "metadata": {},
   "outputs": [
    {
     "name": "stderr",
     "output_type": "stream",
     "text": [
      "/home/anand/anaconda3/lib/python3.6/site-packages/skimage/feature/_hog.py:150: skimage_deprecation: Default value of `block_norm`==`L1` is deprecated and will be changed to `L2-Hys` in v0.15. To supress this message specify explicitly the normalization method.\n",
      "  skimage_deprecation)\n",
      "/home/anand/anaconda3/lib/python3.6/site-packages/scipy/ndimage/interpolation.py:583: UserWarning: From scipy 0.13.0, the output shape of zoom() is calculated with round() instead of int() - for these inputs the size of the returned array has changed.\n",
      "  \"the returned array has changed.\", UserWarning)\n",
      "/home/anand/anaconda3/lib/python3.6/site-packages/skimage/transform/_warps.py:105: UserWarning: The default mode, 'constant', will be changed to 'reflect' in skimage 0.15.\n",
      "  warn(\"The default mode, 'constant', will be changed to 'reflect' in \"\n"
     ]
    }
   ],
   "source": [
    "hog_features = create_hog(full_face)\n",
    "lbp_features = create_lbp(full_face)\n",
    "# features = np.concatenate([hog_features,lbp_features],axis=1)\n",
    "features= hog_features\n",
    "# X_train, X_test, y_train, y_test = train_test_split(hog_features, np.array(full_labels), test_size=0.2, random_state=0)"
   ]
  },
  {
   "cell_type": "code",
   "execution_count": 8,
   "metadata": {},
   "outputs": [
    {
     "data": {
      "text/plain": [
       "PCA(copy=True, iterated_power='auto', n_components=None, random_state=None,\n",
       "  svd_solver='auto', tol=0.0, whiten=True)"
      ]
     },
     "execution_count": 8,
     "metadata": {},
     "output_type": "execute_result"
    }
   ],
   "source": [
    "from sklearn.decomposition import PCA\n",
    "pca = PCA(whiten=True)\n",
    "train_feat = features\n",
    "# test_feat = X_test\n",
    "# print(train_feat.shape,test_feat.shape)\n",
    "pca.fit(train_feat)"
   ]
  },
  {
   "cell_type": "code",
   "execution_count": 9,
   "metadata": {},
   "outputs": [
    {
     "name": "stdout",
     "output_type": "stream",
     "text": [
      "(580, 101)\n"
     ]
    }
   ],
   "source": [
    "n_components = np.argmin(np.cumsum(pca.explained_variance_ratio_)<=0.99)\n",
    "# print(n_components)\n",
    "train_feat_pca = pca.transform(train_feat)\n",
    "train_feat_pca = train_feat_pca[:,:n_components]\n",
    "# test_feat_pca = pca.transform(test_feat)\n",
    "# test_feat_pca = test_feat_pca[:,:n_components]\n",
    "print(train_feat_pca.shape)"
   ]
  },
  {
   "cell_type": "code",
   "execution_count": 10,
   "metadata": {},
   "outputs": [],
   "source": [
    "img_pair, label_pair = create_label_pair(train_feat_pca,np.array(full_labels))\n",
    "# test_img_pair, test_label_pair = create_label_pair(test_feat_pca,y_test)"
   ]
  },
  {
   "cell_type": "code",
   "execution_count": 11,
   "metadata": {},
   "outputs": [
    {
     "data": {
      "text/plain": [
       "RandomForestClassifier(bootstrap=True, class_weight='balanced',\n",
       "            criterion='gini', max_depth=None, max_features='auto',\n",
       "            max_leaf_nodes=None, min_impurity_decrease=0.0,\n",
       "            min_impurity_split=None, min_samples_leaf=1,\n",
       "            min_samples_split=2, min_weight_fraction_leaf=0.0,\n",
       "            n_estimators=300, n_jobs=-1, oob_score=False,\n",
       "            random_state=None, verbose=0, warm_start=False)"
      ]
     },
     "execution_count": 11,
     "metadata": {},
     "output_type": "execute_result"
    }
   ],
   "source": [
    "g = np.random.permutation(img_pair.shape[0])\n",
    "img_pair = img_pair[g,:]\n",
    "label_pair = label_pair[g,]\n",
    "\n",
    "# clf = SVC(probability=True)\n",
    "clf=RandomForestClassifier(n_estimators = 300,n_jobs=-1,class_weight='balanced')\n",
    "# clf = KNeighborsClassifier(n_neighbors=5)\n",
    "# clf = GradientBoostingClassifier()\n",
    "# clf = \n",
    "# clf = LogisticRegression()\n",
    "clf.fit(img_pair,label_pair)"
   ]
  },
  {
   "cell_type": "code",
   "execution_count": 12,
   "metadata": {},
   "outputs": [],
   "source": [
    "# pred = clf.predict_proba(test_img_pair)\n",
    "# print(clf.score(test_img_pair,test_label_pair))\n",
    "# print(f1_score(clf.predict(test_img_pair),test_label_pair))"
   ]
  },
  {
   "cell_type": "code",
   "execution_count": 13,
   "metadata": {},
   "outputs": [
    {
     "name": "stderr",
     "output_type": "stream",
     "text": [
      "/home/anand/anaconda3/lib/python3.6/site-packages/scipy/ndimage/interpolation.py:583: UserWarning: From scipy 0.13.0, the output shape of zoom() is calculated with round() instead of int() - for these inputs the size of the returned array has changed.\n",
      "  \"the returned array has changed.\", UserWarning)\n",
      "/home/anand/anaconda3/lib/python3.6/site-packages/skimage/feature/_hog.py:150: skimage_deprecation: Default value of `block_norm`==`L1` is deprecated and will be changed to `L2-Hys` in v0.15. To supress this message specify explicitly the normalization method.\n",
      "  skimage_deprecation)\n",
      "/home/anand/anaconda3/lib/python3.6/site-packages/skimage/transform/_warps.py:105: UserWarning: The default mode, 'constant', will be changed to 'reflect' in skimage 0.15.\n",
      "  warn(\"The default mode, 'constant', will be changed to 'reflect' in \"\n"
     ]
    }
   ],
   "source": [
    "import h5py\n",
    "import pandas as pd\n",
    "import matplotlib.pyplot as plt\n",
    "import time\n",
    "%matplotlib inline\n",
    "# from sklearn.metrics.pairwise import cosine_similarity\n",
    "from skimage import io, exposure\n",
    "from skimage.transform import resize\n",
    "import cv2\n",
    "\n",
    "df = pd.read_csv('image_pairs.csv')\n",
    "uniq = set(df['pair1'].unique().tolist()+df['pair2'].unique().tolist())\n",
    "\n",
    "i = 0\n",
    "hf = h5py.File('test.h5', 'r')\n",
    "data = list(map(hf.get,map(str,uniq)))\n",
    "\n",
    "# hist_vector = create_vector(data)\n",
    "hog_features = create_hog(data)\n",
    "lbp_features = create_lbp(data)\n",
    "dc = dict(zip(uniq,pca.transform(hog_features)[:,:n_components]))\n",
    "# dc = dict(zip(uniq,pca.transform(hog_features)))"
   ]
  },
  {
   "cell_type": "code",
   "execution_count": 14,
   "metadata": {},
   "outputs": [],
   "source": [
    "testpred = []\n",
    "\n",
    "for ind,row in df.iterrows():\n",
    "    testpred.append(np.abs(dc[row['pair1']] - dc[row['pair2']]))\n",
    "testpred = clf.predict_proba(testpred)\n",
    "testpred = (testpred[:,1]>0.3).astype(int)\n",
    "pd.DataFrame([range(df.shape[0]),testpred],index = ['Id','Expected']).T.to_csv('submisssion.csv',index=False)\n"
   ]
  }
 ],
 "metadata": {
  "kernelspec": {
   "display_name": "Python 3",
   "language": "python",
   "name": "python3"
  },
  "language_info": {
   "codemirror_mode": {
    "name": "ipython",
    "version": 3
   },
   "file_extension": ".py",
   "mimetype": "text/x-python",
   "name": "python",
   "nbconvert_exporter": "python",
   "pygments_lexer": "ipython3",
   "version": "3.8.5"
  }
 },
 "nbformat": 4,
 "nbformat_minor": 2
}
